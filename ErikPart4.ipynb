{
 "cells": [
  {
   "cell_type": "code",
   "execution_count": 25,
   "id": "dbd8b0fd",
   "metadata": {},
   "outputs": [
    {
     "name": "stdout",
     "output_type": "stream",
     "text": [
      "Total_Harga : \n",
      "  166000\n",
      "total_diskon : \n",
      "  8300.0\n",
      "Total_setelah_diskon : \n",
      "  157700.0\n"
     ]
    }
   ],
   "source": [
    "#Erik Riswanto Saputra\n",
    "a = 15000*3\n",
    "b = 21000*2\n",
    "c = 13000*2\n",
    "d = 20000*2\n",
    "e = 13000\n",
    "totalharga= a+b+c+d+e\n",
    "diskon = totalharga * 5/100\n",
    "totalsetelahdiskon = totalharga - diskon\n",
    "print(\"Total_Harga : \\n \",totalharga)\n",
    "print(\"total_diskon : \\n \",diskon)\n",
    "print(\"Total_setelah_diskon : \\n \",totalsetelahdiskon)"
   ]
  },
  {
   "cell_type": "code",
   "execution_count": 12,
   "id": "267812e3",
   "metadata": {},
   "outputs": [
    {
     "name": "stdout",
     "output_type": "stream",
     "text": [
      "totaltabungan :  800000\n"
     ]
    }
   ],
   "source": [
    "#Erik Riswanto Saputra\n",
    "totalhari = 31\n",
    "totaltabungan = 0\n",
    "\n",
    "tanggal = 1\n",
    "while( tanggal <= totalhari):\n",
    "    \n",
    "    if(tanggal % 5 == 0):\n",
    "        totaltabungan += 5000\n",
    "    elif(tanggal % 2 != 0):\n",
    "        totaltabungan += 50000\n",
    "    else:\n",
    "        totaltabungan += 10000\n",
    "        \n",
    "    tanggal += 1\n",
    "        \n",
    "print(\"totaltabungan : \", totaltabungan)"
   ]
  },
  {
   "cell_type": "code",
   "execution_count": 13,
   "id": "d8355538",
   "metadata": {},
   "outputs": [
    {
     "name": "stdout",
     "output_type": "stream",
     "text": [
      "semua pecahan ada\n",
      "100 lembar 20 rbu =  2000000\n",
      "50 lembar 10 rbu =  500000\n",
      "400 lembar 5 rbu =  2000000\n",
      "250 lembar 2 rbu =  500000\n",
      "totalnya adalah = 5000000\n",
      "hanya pecahan 20rbu, 10rbu dan 5rbu\n",
      "100 lembar 20 rbu = 2000000\n",
      "50 lembar 10 rbu = 500000\n",
      "500 lembar 5 rbu = 2500000\n",
      "totalnya adalah = 5000000\n",
      "hanya pecahan 20rbu, 10rbu dan 2rbu\n",
      "100 lembar 20 rbu = 2000000\n",
      "50 lembar 10 rbu = 500000\n",
      "1250 lembar 2 rbu = 2500000\n",
      "totalnya adalah = 5000000\n"
     ]
    }
   ],
   "source": [
    "#Erik Riswanto Saputra\n",
    "rupiah_20 = 20_000 * 100\n",
    "rupiah_10 = 10_000 * 50\n",
    "rupiah_5 = 5000 * 400\n",
    "rupiah_2 = 2000 * 250\n",
    "jumlah_3_a = rupiah_20 + rupiah_10 + rupiah_5 + rupiah_2\n",
    "\n",
    "print(\"semua pecahan ada\")\n",
    "print(\"100 lembar 20 rbu = \",rupiah_20)\n",
    "print(\"50 lembar 10 rbu = \",rupiah_10)\n",
    "print(\"400 lembar 5 rbu = \",rupiah_5)\n",
    "print(\"250 lembar 2 rbu = \",rupiah_2)\n",
    "print(\"totalnya adalah =\",jumlah_3_a)\n",
    "\n",
    "rupiah_5_2 = 5000 * 500\n",
    "jumlah_3_b = rupiah_20 + rupiah_10 + rupiah_5_2 \n",
    "print(\"hanya pecahan 20rbu, 10rbu dan 5rbu\") \n",
    "print(\"100 lembar 20 rbu =\",rupiah_20) \n",
    "print(\"50 lembar 10 rbu =\",rupiah_10) \n",
    "print(\"500 lembar 5 rbu =\",rupiah_5_2) \n",
    "print(\"totalnya adalah =\",jumlah_3_b)\n",
    "\n",
    "rupiah_2_2 = 2000 * 1250\n",
    "jumlah_3_c = rupiah_20 + rupiah_10 + rupiah_2_2 \n",
    "print(\"hanya pecahan 20rbu, 10rbu dan 2rbu\") \n",
    "print(\"100 lembar 20 rbu =\",rupiah_20) \n",
    "print(\"50 lembar 10 rbu =\",rupiah_10) \n",
    "print(\"1250 lembar 2 rbu =\",rupiah_2_2) \n",
    "print(\"totalnya adalah =\",jumlah_3_c)"
   ]
  },
  {
   "cell_type": "code",
   "execution_count": 15,
   "id": "e7191ca2",
   "metadata": {},
   "outputs": [
    {
     "name": "stdout",
     "output_type": "stream",
     "text": [
      "hasil dari (10/23-6+4-(20//3%2) = -1.5652173913043477\n",
      "hasil analisa\n",
      "1. terdapat oprator bagi dan kurung = 10/23-6 =  -5.565217391304348\n",
      "2. terdapat oprator pembagian dibulatkan dan sisa bagi = 4 - ( 20 // 3 % 2) =  4\n",
      "hasil setelah di tambahkan adalah =  -1.5652173913043477\n"
     ]
    }
   ],
   "source": [
    "#Erik Riswanto Saputra\n",
    "h = (10/23-6+4-(20//3%2))\n",
    "print(\"hasil dari (10/23-6+4-(20//3%2) =\",h) \n",
    "print(\"hasil analisa\")\n",
    "\n",
    "x = 10/23-6\n",
    "y = 4 - (20 // 3 % 2)\n",
    "print(\"1. terdapat oprator bagi dan kurung = 10/23-6 = \", x)\n",
    "print(\"2. terdapat oprator pembagian dibulatkan dan sisa bagi = 4 - ( 20 // 3 % 2) = \", y)\n",
    "print(\"hasil setelah di tambahkan adalah = \", x + y)"
   ]
  },
  {
   "cell_type": "code",
   "execution_count": 24,
   "id": "db6aff8e",
   "metadata": {},
   "outputs": [
    {
     "name": "stdout",
     "output_type": "stream",
     "text": [
      "ERIK\n"
     ]
    }
   ],
   "source": [
    "Abjad =  \"UFLOPYXTKJACSWRBGQZVDMEHIN\"\n",
    "print(Abjad[22]+Abjad[14]+Abjad[24]+Abjad[8])"
   ]
  },
  {
   "cell_type": "markdown",
   "id": "1f9ed3e2",
   "metadata": {},
   "source": [
    "<h1 style=\"Color:blue;\">Erik Riswanto Saputra</h1>"
   ]
  },
  {
   "cell_type": "markdown",
   "id": "6b83d373",
   "metadata": {},
   "source": [
    "<h2>20220040226</h2>"
   ]
  },
  {
   "cell_type": "markdown",
   "id": "4611e047",
   "metadata": {},
   "source": [
    "<h2>TI 22 H </h2>"
   ]
  },
  {
   "cell_type": "code",
   "execution_count": null,
   "id": "537d71b6",
   "metadata": {},
   "outputs": [],
   "source": []
  }
 ],
 "metadata": {
  "kernelspec": {
   "display_name": "Python 3 (ipykernel)",
   "language": "python",
   "name": "python3"
  },
  "language_info": {
   "codemirror_mode": {
    "name": "ipython",
    "version": 3
   },
   "file_extension": ".py",
   "mimetype": "text/x-python",
   "name": "python",
   "nbconvert_exporter": "python",
   "pygments_lexer": "ipython3",
   "version": "3.10.4"
  }
 },
 "nbformat": 4,
 "nbformat_minor": 5
}
